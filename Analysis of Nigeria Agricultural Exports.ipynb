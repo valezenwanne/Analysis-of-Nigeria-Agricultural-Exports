{
 "cells": [
  {
   "cell_type": "markdown",
   "id": "fedcc183",
   "metadata": {},
   "source": [
    "# Nigeria Agricultural Exports"
   ]
  },
  {
   "cell_type": "markdown",
   "id": "08aec95c",
   "metadata": {},
   "source": [
    "## Import Libraries"
   ]
  },
  {
   "cell_type": "code",
   "execution_count": 1,
   "id": "435c15cf",
   "metadata": {},
   "outputs": [],
   "source": [
    "import pandas as pd\n",
    "import numpy as np\n",
    "pd.set_option('display.max_columns', None)\n",
    "import warnings\n",
    "warnings.filterwarnings('ignore')\n",
    "import plotly.express as px\n",
    "import dash_bootstrap_components as dbc\n",
    "from dash_bootstrap_templates import load_figure_template\n",
    "from dash import Dash, html, dcc\n",
    "from dash.dependencies import Output, Input\n",
    "from dash.exceptions import PreventUpdate"
   ]
  },
  {
   "cell_type": "code",
   "execution_count": 2,
   "id": "1ee44d6b",
   "metadata": {},
   "outputs": [],
   "source": [
    "# read data\n",
    "df = pd.read_csv('nigeria_agricultural_exports.csv')"
   ]
  },
  {
   "cell_type": "code",
   "execution_count": 3,
   "id": "2c23a061",
   "metadata": {},
   "outputs": [
    {
     "data": {
      "text/html": [
       "<div>\n",
       "<style scoped>\n",
       "    .dataframe tbody tr th:only-of-type {\n",
       "        vertical-align: middle;\n",
       "    }\n",
       "\n",
       "    .dataframe tbody tr th {\n",
       "        vertical-align: top;\n",
       "    }\n",
       "\n",
       "    .dataframe thead th {\n",
       "        text-align: right;\n",
       "    }\n",
       "</style>\n",
       "<table border=\"1\" class=\"dataframe\">\n",
       "  <thead>\n",
       "    <tr style=\"text-align: right;\">\n",
       "      <th></th>\n",
       "      <th>Product Name</th>\n",
       "      <th>Company</th>\n",
       "      <th>Export Country</th>\n",
       "      <th>Date</th>\n",
       "      <th>Units Sold</th>\n",
       "      <th>unit_price</th>\n",
       "      <th>Profit per unit</th>\n",
       "      <th>Export Value</th>\n",
       "      <th>Destination Port</th>\n",
       "      <th>Transportation Mode</th>\n",
       "    </tr>\n",
       "  </thead>\n",
       "  <tbody>\n",
       "    <tr>\n",
       "      <th>0</th>\n",
       "      <td>Rubber</td>\n",
       "      <td>Farmgate Nigeria Limited</td>\n",
       "      <td>Austria</td>\n",
       "      <td>11/16/2023</td>\n",
       "      <td>721</td>\n",
       "      <td>31443.05</td>\n",
       "      <td>5863.92</td>\n",
       "      <td>22670439.05</td>\n",
       "      <td>Lagos</td>\n",
       "      <td>Sea</td>\n",
       "    </tr>\n",
       "    <tr>\n",
       "      <th>1</th>\n",
       "      <td>Palm Oil</td>\n",
       "      <td>Prime Agro Exports Nigeria Limited</td>\n",
       "      <td>Germany</td>\n",
       "      <td>1/8/2021</td>\n",
       "      <td>881</td>\n",
       "      <td>23151.97</td>\n",
       "      <td>5868.73</td>\n",
       "      <td>20396885.57</td>\n",
       "      <td>Lagos</td>\n",
       "      <td>Sea</td>\n",
       "    </tr>\n",
       "    <tr>\n",
       "      <th>2</th>\n",
       "      <td>Cassava</td>\n",
       "      <td>Farmgate Nigeria Limited</td>\n",
       "      <td>Germany</td>\n",
       "      <td>10/14/2020</td>\n",
       "      <td>702</td>\n",
       "      <td>18536.45</td>\n",
       "      <td>5105.01</td>\n",
       "      <td>13012587.90</td>\n",
       "      <td>Calabar</td>\n",
       "      <td>Sea</td>\n",
       "    </tr>\n",
       "    <tr>\n",
       "      <th>3</th>\n",
       "      <td>Rubber</td>\n",
       "      <td>Nigerian Export Promotion Council (NEPC)</td>\n",
       "      <td>Belgium</td>\n",
       "      <td>12/31/2022</td>\n",
       "      <td>191</td>\n",
       "      <td>21981.31</td>\n",
       "      <td>7781.54</td>\n",
       "      <td>4198430.21</td>\n",
       "      <td>Warri</td>\n",
       "      <td>Sea</td>\n",
       "    </tr>\n",
       "    <tr>\n",
       "      <th>4</th>\n",
       "      <td>Sesame</td>\n",
       "      <td>Nigeria Agro Export Company</td>\n",
       "      <td>France</td>\n",
       "      <td>12/19/2022</td>\n",
       "      <td>373</td>\n",
       "      <td>13415.94</td>\n",
       "      <td>9590.95</td>\n",
       "      <td>5004145.62</td>\n",
       "      <td>Lagos</td>\n",
       "      <td>Sea</td>\n",
       "    </tr>\n",
       "  </tbody>\n",
       "</table>\n",
       "</div>"
      ],
      "text/plain": [
       "  Product Name                                   Company Export Country  \\\n",
       "0       Rubber                  Farmgate Nigeria Limited        Austria   \n",
       "1     Palm Oil        Prime Agro Exports Nigeria Limited        Germany   \n",
       "2      Cassava                  Farmgate Nigeria Limited        Germany   \n",
       "3       Rubber  Nigerian Export Promotion Council (NEPC)        Belgium   \n",
       "4       Sesame               Nigeria Agro Export Company         France   \n",
       "\n",
       "         Date  Units Sold  unit_price  Profit per unit  Export Value  \\\n",
       "0  11/16/2023         721    31443.05          5863.92   22670439.05   \n",
       "1    1/8/2021         881    23151.97          5868.73   20396885.57   \n",
       "2  10/14/2020         702    18536.45          5105.01   13012587.90   \n",
       "3  12/31/2022         191    21981.31          7781.54    4198430.21   \n",
       "4  12/19/2022         373    13415.94          9590.95    5004145.62   \n",
       "\n",
       "  Destination Port Transportation Mode  \n",
       "0            Lagos                 Sea  \n",
       "1            Lagos                 Sea  \n",
       "2          Calabar                 Sea  \n",
       "3            Warri                 Sea  \n",
       "4            Lagos                 Sea  "
      ]
     },
     "execution_count": 3,
     "metadata": {},
     "output_type": "execute_result"
    }
   ],
   "source": [
    "# display few lines\n",
    "df.head()"
   ]
  },
  {
   "cell_type": "markdown",
   "id": "513d7783",
   "metadata": {},
   "source": [
    "### Data Wrangling"
   ]
  },
  {
   "cell_type": "code",
   "execution_count": 4,
   "id": "4762c61f",
   "metadata": {},
   "outputs": [
    {
     "data": {
      "text/plain": [
       "(1000, 10)"
      ]
     },
     "execution_count": 4,
     "metadata": {},
     "output_type": "execute_result"
    }
   ],
   "source": [
    "#check the shape\n",
    "df.shape"
   ]
  },
  {
   "cell_type": "markdown",
   "id": "87ce1906",
   "metadata": {},
   "source": [
    "- Data contain 1000 rows and ten columns"
   ]
  },
  {
   "cell_type": "code",
   "execution_count": 5,
   "id": "cbeb10b9",
   "metadata": {},
   "outputs": [
    {
     "data": {
      "text/plain": [
       "Product Name           0\n",
       "Company                0\n",
       "Export Country         0\n",
       "Date                   0\n",
       "Units Sold             0\n",
       "unit_price             0\n",
       "Profit per unit        0\n",
       "Export Value           0\n",
       "Destination Port       0\n",
       "Transportation Mode    0\n",
       "dtype: int64"
      ]
     },
     "execution_count": 5,
     "metadata": {},
     "output_type": "execute_result"
    }
   ],
   "source": [
    "#check missing values\n",
    "df.isna().sum()"
   ]
  },
  {
   "cell_type": "markdown",
   "id": "55774db8",
   "metadata": {},
   "source": [
    "- There are no missing values"
   ]
  },
  {
   "cell_type": "code",
   "execution_count": 6,
   "id": "7a4c9716",
   "metadata": {},
   "outputs": [
    {
     "data": {
      "text/plain": [
       "0"
      ]
     },
     "execution_count": 6,
     "metadata": {},
     "output_type": "execute_result"
    }
   ],
   "source": [
    "#check for duplicates\n",
    "df.duplicated().sum()"
   ]
  },
  {
   "cell_type": "markdown",
   "id": "0e462595",
   "metadata": {},
   "source": [
    "- There are no duplicates"
   ]
  },
  {
   "cell_type": "code",
   "execution_count": 7,
   "id": "39d7fe8c",
   "metadata": {},
   "outputs": [
    {
     "data": {
      "text/plain": [
       "Index(['Product Name', 'Company', 'Export Country', 'Date', 'Units Sold',\n",
       "       'unit_price', 'Profit per unit', 'Export Value', 'Destination Port',\n",
       "       'Transportation Mode'],\n",
       "      dtype='object')"
      ]
     },
     "execution_count": 7,
     "metadata": {},
     "output_type": "execute_result"
    }
   ],
   "source": [
    "#check for column names\n",
    "df.columns"
   ]
  },
  {
   "cell_type": "code",
   "execution_count": 8,
   "id": "c514567b",
   "metadata": {},
   "outputs": [
    {
     "data": {
      "text/plain": [
       "Product Name            object\n",
       "Company                 object\n",
       "Export Country          object\n",
       "Date                    object\n",
       "Units Sold               int64\n",
       "unit_price             float64\n",
       "Profit per unit        float64\n",
       "Export Value           float64\n",
       "Destination Port        object\n",
       "Transportation Mode     object\n",
       "dtype: object"
      ]
     },
     "execution_count": 8,
     "metadata": {},
     "output_type": "execute_result"
    }
   ],
   "source": [
    "#check for datatypes\n",
    "df.dtypes"
   ]
  },
  {
   "cell_type": "markdown",
   "id": "6b23fe31",
   "metadata": {},
   "source": [
    "- Date datatype is wrong"
   ]
  },
  {
   "cell_type": "code",
   "execution_count": 9,
   "id": "1eb758ec",
   "metadata": {},
   "outputs": [],
   "source": [
    "# Change the date column to date datatype\n",
    "df['Date'] = pd.to_datetime(df['Date'])"
   ]
  },
  {
   "cell_type": "code",
   "execution_count": 10,
   "id": "c47d9110",
   "metadata": {},
   "outputs": [
    {
     "data": {
      "text/plain": [
       "Product Name                   object\n",
       "Company                        object\n",
       "Export Country                 object\n",
       "Date                   datetime64[ns]\n",
       "Units Sold                      int64\n",
       "unit_price                    float64\n",
       "Profit per unit               float64\n",
       "Export Value                  float64\n",
       "Destination Port               object\n",
       "Transportation Mode            object\n",
       "dtype: object"
      ]
     },
     "execution_count": 10,
     "metadata": {},
     "output_type": "execute_result"
    }
   ],
   "source": [
    "#confirm the date datatype has been changed\n",
    "df.dtypes"
   ]
  },
  {
   "cell_type": "markdown",
   "id": "b05ba8b1",
   "metadata": {},
   "source": [
    "### Data Exploration"
   ]
  },
  {
   "cell_type": "code",
   "execution_count": 11,
   "id": "7b03a286",
   "metadata": {},
   "outputs": [
    {
     "data": {
      "text/plain": [
       "array(['Rubber', 'Palm Oil', 'Cassava', 'Sesame', 'Cashew', 'Ginger',\n",
       "       'Plantain', 'Cocoa'], dtype=object)"
      ]
     },
     "execution_count": 11,
     "metadata": {},
     "output_type": "execute_result"
    }
   ],
   "source": [
    "#checking for unique products\n",
    "df['Product Name'].unique()"
   ]
  },
  {
   "cell_type": "code",
   "execution_count": 12,
   "id": "1cf1ae11",
   "metadata": {},
   "outputs": [
    {
     "data": {
      "text/plain": [
       "8"
      ]
     },
     "execution_count": 12,
     "metadata": {},
     "output_type": "execute_result"
    }
   ],
   "source": [
    "#counting the number of unique products\n",
    "df['Product Name'].nunique()"
   ]
  },
  {
   "cell_type": "markdown",
   "id": "95d85cfd",
   "metadata": {},
   "source": [
    "- There are eight uniques agricultural products"
   ]
  },
  {
   "cell_type": "code",
   "execution_count": 13,
   "id": "1f7eb496",
   "metadata": {},
   "outputs": [
    {
     "data": {
      "text/plain": [
       "10"
      ]
     },
     "execution_count": 13,
     "metadata": {},
     "output_type": "execute_result"
    }
   ],
   "source": [
    "#checking the number of company that exports products\n",
    "df['Company'].nunique()"
   ]
  },
  {
   "cell_type": "code",
   "execution_count": 14,
   "id": "18242daa",
   "metadata": {},
   "outputs": [
    {
     "data": {
      "text/plain": [
       "array(['Farmgate Nigeria Limited', 'Prime Agro Exports Nigeria Limited',\n",
       "       'Nigerian Export Promotion Council (NEPC)',\n",
       "       'Nigeria Agro Export Company',\n",
       "       'Greenfield Agro Exporters Nigeria Limited',\n",
       "       'Solid Agro Nigeria Limited', 'Agro Export Nigeria Ltd',\n",
       "       'Golden Farms Nigeria Limited', 'Agriplus Nigeria Limited',\n",
       "       'Agro Allied Exporters Nigeria Limited'], dtype=object)"
      ]
     },
     "execution_count": 14,
     "metadata": {},
     "output_type": "execute_result"
    }
   ],
   "source": [
    "#checking the company names\n",
    "df['Company'].unique()"
   ]
  },
  {
   "cell_type": "markdown",
   "id": "11898323",
   "metadata": {},
   "source": [
    "- There are 10 companies that are involved in export of agricultural products"
   ]
  },
  {
   "cell_type": "code",
   "execution_count": 15,
   "id": "69a8f039",
   "metadata": {},
   "outputs": [
    {
     "data": {
      "text/plain": [
       "10"
      ]
     },
     "execution_count": 15,
     "metadata": {},
     "output_type": "execute_result"
    }
   ],
   "source": [
    "#checking the number of countries that the produce are exported to\n",
    "df['Export Country'].nunique()"
   ]
  },
  {
   "cell_type": "code",
   "execution_count": 16,
   "id": "2ac2530d",
   "metadata": {},
   "outputs": [
    {
     "data": {
      "text/plain": [
       "array(['Austria', 'Germany', 'Belgium', 'France', 'Netherlands',\n",
       "       'Denmark', 'Sweden', 'Switzerland', 'Italy', 'Spain'], dtype=object)"
      ]
     },
     "execution_count": 16,
     "metadata": {},
     "output_type": "execute_result"
    }
   ],
   "source": [
    "df['Export Country'].unique()"
   ]
  },
  {
   "cell_type": "markdown",
   "id": "fd02834f",
   "metadata": {},
   "source": [
    "- There are 10 countries that the agricultural products are exported to"
   ]
  },
  {
   "cell_type": "code",
   "execution_count": 17,
   "id": "2663af5b",
   "metadata": {},
   "outputs": [
    {
     "data": {
      "text/plain": [
       "Timestamp('2020-01-05 00:00:00')"
      ]
     },
     "execution_count": 17,
     "metadata": {},
     "output_type": "execute_result"
    }
   ],
   "source": [
    "#checking the date range\n",
    "df['Date'].min()"
   ]
  },
  {
   "cell_type": "code",
   "execution_count": 18,
   "id": "ab528a65",
   "metadata": {},
   "outputs": [
    {
     "data": {
      "text/plain": [
       "Timestamp('2023-12-30 00:00:00')"
      ]
     },
     "execution_count": 18,
     "metadata": {},
     "output_type": "execute_result"
    }
   ],
   "source": [
    "#checking the maximum date \n",
    "df['Date'].max()"
   ]
  },
  {
   "cell_type": "markdown",
   "id": "5dd8f1f7",
   "metadata": {},
   "source": [
    "- Data contain dates from 2020 to 2023"
   ]
  },
  {
   "cell_type": "code",
   "execution_count": 19,
   "id": "b82b9e33",
   "metadata": {},
   "outputs": [
    {
     "data": {
      "text/plain": [
       "array(['Lagos', 'Calabar', 'Warri', 'Port Harcourt'], dtype=object)"
      ]
     },
     "execution_count": 19,
     "metadata": {},
     "output_type": "execute_result"
    }
   ],
   "source": [
    "#checking the unique destination port\n",
    "df['Destination Port'].unique()"
   ]
  },
  {
   "cell_type": "markdown",
   "id": "115a03d8",
   "metadata": {},
   "source": [
    "- There are four destination port"
   ]
  },
  {
   "cell_type": "code",
   "execution_count": 20,
   "id": "3d6ab261",
   "metadata": {},
   "outputs": [
    {
     "data": {
      "text/plain": [
       "array(['Sea'], dtype=object)"
      ]
     },
     "execution_count": 20,
     "metadata": {},
     "output_type": "execute_result"
    }
   ],
   "source": [
    "#checking the transportation mode\n",
    "df['Transportation Mode'].unique()"
   ]
  },
  {
   "cell_type": "markdown",
   "id": "65fdaba7",
   "metadata": {},
   "source": [
    "- There is only one mode of transport which is sea"
   ]
  },
  {
   "cell_type": "code",
   "execution_count": 21,
   "id": "6ac82306",
   "metadata": {},
   "outputs": [
    {
     "data": {
      "text/html": [
       "<div>\n",
       "<style scoped>\n",
       "    .dataframe tbody tr th:only-of-type {\n",
       "        vertical-align: middle;\n",
       "    }\n",
       "\n",
       "    .dataframe tbody tr th {\n",
       "        vertical-align: top;\n",
       "    }\n",
       "\n",
       "    .dataframe thead th {\n",
       "        text-align: right;\n",
       "    }\n",
       "</style>\n",
       "<table border=\"1\" class=\"dataframe\">\n",
       "  <thead>\n",
       "    <tr style=\"text-align: right;\">\n",
       "      <th></th>\n",
       "      <th>Product Name</th>\n",
       "      <th>Company</th>\n",
       "      <th>Export Country</th>\n",
       "      <th>Date</th>\n",
       "      <th>Units Sold</th>\n",
       "      <th>unit_price</th>\n",
       "      <th>Profit per unit</th>\n",
       "      <th>Export Value</th>\n",
       "      <th>Destination Port</th>\n",
       "      <th>Transportation Mode</th>\n",
       "    </tr>\n",
       "  </thead>\n",
       "  <tbody>\n",
       "    <tr>\n",
       "      <th>0</th>\n",
       "      <td>Rubber</td>\n",
       "      <td>Farmgate Nigeria Limited</td>\n",
       "      <td>Austria</td>\n",
       "      <td>2023-11-16</td>\n",
       "      <td>721</td>\n",
       "      <td>31443.05</td>\n",
       "      <td>5863.92</td>\n",
       "      <td>22670439.05</td>\n",
       "      <td>Lagos</td>\n",
       "      <td>Sea</td>\n",
       "    </tr>\n",
       "    <tr>\n",
       "      <th>1</th>\n",
       "      <td>Palm Oil</td>\n",
       "      <td>Prime Agro Exports Nigeria Limited</td>\n",
       "      <td>Germany</td>\n",
       "      <td>2021-01-08</td>\n",
       "      <td>881</td>\n",
       "      <td>23151.97</td>\n",
       "      <td>5868.73</td>\n",
       "      <td>20396885.57</td>\n",
       "      <td>Lagos</td>\n",
       "      <td>Sea</td>\n",
       "    </tr>\n",
       "  </tbody>\n",
       "</table>\n",
       "</div>"
      ],
      "text/plain": [
       "  Product Name                             Company Export Country       Date  \\\n",
       "0       Rubber            Farmgate Nigeria Limited        Austria 2023-11-16   \n",
       "1     Palm Oil  Prime Agro Exports Nigeria Limited        Germany 2021-01-08   \n",
       "\n",
       "   Units Sold  unit_price  Profit per unit  Export Value Destination Port  \\\n",
       "0         721    31443.05          5863.92   22670439.05            Lagos   \n",
       "1         881    23151.97          5868.73   20396885.57            Lagos   \n",
       "\n",
       "  Transportation Mode  \n",
       "0                 Sea  \n",
       "1                 Sea  "
      ]
     },
     "execution_count": 21,
     "metadata": {},
     "output_type": "execute_result"
    }
   ],
   "source": [
    "df.head(2)"
   ]
  },
  {
   "cell_type": "markdown",
   "id": "f8b12d9d",
   "metadata": {},
   "source": [
    "### Feature Engineering"
   ]
  },
  {
   "cell_type": "code",
   "execution_count": 22,
   "id": "19c3e4c9",
   "metadata": {},
   "outputs": [],
   "source": [
    "#create a copy of the data\n",
    "data = df.copy()"
   ]
  },
  {
   "cell_type": "code",
   "execution_count": 23,
   "id": "892f7857",
   "metadata": {},
   "outputs": [
    {
     "data": {
      "text/html": [
       "<div>\n",
       "<style scoped>\n",
       "    .dataframe tbody tr th:only-of-type {\n",
       "        vertical-align: middle;\n",
       "    }\n",
       "\n",
       "    .dataframe tbody tr th {\n",
       "        vertical-align: top;\n",
       "    }\n",
       "\n",
       "    .dataframe thead th {\n",
       "        text-align: right;\n",
       "    }\n",
       "</style>\n",
       "<table border=\"1\" class=\"dataframe\">\n",
       "  <thead>\n",
       "    <tr style=\"text-align: right;\">\n",
       "      <th></th>\n",
       "      <th>Product Name</th>\n",
       "      <th>Company</th>\n",
       "      <th>Export Country</th>\n",
       "      <th>Date</th>\n",
       "      <th>Units Sold</th>\n",
       "      <th>unit_price</th>\n",
       "      <th>Profit per unit</th>\n",
       "      <th>Export Value</th>\n",
       "      <th>Destination Port</th>\n",
       "      <th>Transportation Mode</th>\n",
       "    </tr>\n",
       "  </thead>\n",
       "  <tbody>\n",
       "    <tr>\n",
       "      <th>0</th>\n",
       "      <td>Rubber</td>\n",
       "      <td>Farmgate Nigeria Limited</td>\n",
       "      <td>Austria</td>\n",
       "      <td>2023-11-16</td>\n",
       "      <td>721</td>\n",
       "      <td>31443.05</td>\n",
       "      <td>5863.92</td>\n",
       "      <td>22670439.05</td>\n",
       "      <td>Lagos</td>\n",
       "      <td>Sea</td>\n",
       "    </tr>\n",
       "    <tr>\n",
       "      <th>1</th>\n",
       "      <td>Palm Oil</td>\n",
       "      <td>Prime Agro Exports Nigeria Limited</td>\n",
       "      <td>Germany</td>\n",
       "      <td>2021-01-08</td>\n",
       "      <td>881</td>\n",
       "      <td>23151.97</td>\n",
       "      <td>5868.73</td>\n",
       "      <td>20396885.57</td>\n",
       "      <td>Lagos</td>\n",
       "      <td>Sea</td>\n",
       "    </tr>\n",
       "  </tbody>\n",
       "</table>\n",
       "</div>"
      ],
      "text/plain": [
       "  Product Name                             Company Export Country       Date  \\\n",
       "0       Rubber            Farmgate Nigeria Limited        Austria 2023-11-16   \n",
       "1     Palm Oil  Prime Agro Exports Nigeria Limited        Germany 2021-01-08   \n",
       "\n",
       "   Units Sold  unit_price  Profit per unit  Export Value Destination Port  \\\n",
       "0         721    31443.05          5863.92   22670439.05            Lagos   \n",
       "1         881    23151.97          5868.73   20396885.57            Lagos   \n",
       "\n",
       "  Transportation Mode  \n",
       "0                 Sea  \n",
       "1                 Sea  "
      ]
     },
     "execution_count": 23,
     "metadata": {},
     "output_type": "execute_result"
    }
   ],
   "source": [
    "#confirm the data have been copied\n",
    "data.head(2)"
   ]
  },
  {
   "cell_type": "code",
   "execution_count": 24,
   "id": "946a1ccb",
   "metadata": {},
   "outputs": [],
   "source": [
    "#create the year column\n",
    "data['Year'] = data['Date'].dt.year"
   ]
  },
  {
   "cell_type": "code",
   "execution_count": 25,
   "id": "b3947dbc",
   "metadata": {},
   "outputs": [],
   "source": [
    "#create the month column\n",
    "data['Month'] = data['Date'].dt.month"
   ]
  },
  {
   "cell_type": "code",
   "execution_count": 26,
   "id": "78a4c1bf",
   "metadata": {},
   "outputs": [],
   "source": [
    "#create the month name column\n",
    "data['Month Name'] = data['Date'].dt.month_name()"
   ]
  },
  {
   "cell_type": "code",
   "execution_count": 27,
   "id": "65712a45",
   "metadata": {},
   "outputs": [
    {
     "data": {
      "text/html": [
       "<div>\n",
       "<style scoped>\n",
       "    .dataframe tbody tr th:only-of-type {\n",
       "        vertical-align: middle;\n",
       "    }\n",
       "\n",
       "    .dataframe tbody tr th {\n",
       "        vertical-align: top;\n",
       "    }\n",
       "\n",
       "    .dataframe thead th {\n",
       "        text-align: right;\n",
       "    }\n",
       "</style>\n",
       "<table border=\"1\" class=\"dataframe\">\n",
       "  <thead>\n",
       "    <tr style=\"text-align: right;\">\n",
       "      <th></th>\n",
       "      <th>Product Name</th>\n",
       "      <th>Company</th>\n",
       "      <th>Export Country</th>\n",
       "      <th>Date</th>\n",
       "      <th>Units Sold</th>\n",
       "      <th>unit_price</th>\n",
       "      <th>Profit per unit</th>\n",
       "      <th>Export Value</th>\n",
       "      <th>Destination Port</th>\n",
       "      <th>Transportation Mode</th>\n",
       "      <th>Year</th>\n",
       "      <th>Month</th>\n",
       "      <th>Month Name</th>\n",
       "    </tr>\n",
       "  </thead>\n",
       "  <tbody>\n",
       "    <tr>\n",
       "      <th>0</th>\n",
       "      <td>Rubber</td>\n",
       "      <td>Farmgate Nigeria Limited</td>\n",
       "      <td>Austria</td>\n",
       "      <td>2023-11-16</td>\n",
       "      <td>721</td>\n",
       "      <td>31443.05</td>\n",
       "      <td>5863.92</td>\n",
       "      <td>22670439.05</td>\n",
       "      <td>Lagos</td>\n",
       "      <td>Sea</td>\n",
       "      <td>2023</td>\n",
       "      <td>11</td>\n",
       "      <td>November</td>\n",
       "    </tr>\n",
       "    <tr>\n",
       "      <th>1</th>\n",
       "      <td>Palm Oil</td>\n",
       "      <td>Prime Agro Exports Nigeria Limited</td>\n",
       "      <td>Germany</td>\n",
       "      <td>2021-01-08</td>\n",
       "      <td>881</td>\n",
       "      <td>23151.97</td>\n",
       "      <td>5868.73</td>\n",
       "      <td>20396885.57</td>\n",
       "      <td>Lagos</td>\n",
       "      <td>Sea</td>\n",
       "      <td>2021</td>\n",
       "      <td>1</td>\n",
       "      <td>January</td>\n",
       "    </tr>\n",
       "  </tbody>\n",
       "</table>\n",
       "</div>"
      ],
      "text/plain": [
       "  Product Name                             Company Export Country       Date  \\\n",
       "0       Rubber            Farmgate Nigeria Limited        Austria 2023-11-16   \n",
       "1     Palm Oil  Prime Agro Exports Nigeria Limited        Germany 2021-01-08   \n",
       "\n",
       "   Units Sold  unit_price  Profit per unit  Export Value Destination Port  \\\n",
       "0         721    31443.05          5863.92   22670439.05            Lagos   \n",
       "1         881    23151.97          5868.73   20396885.57            Lagos   \n",
       "\n",
       "  Transportation Mode  Year  Month Month Name  \n",
       "0                 Sea  2023     11   November  \n",
       "1                 Sea  2021      1    January  "
      ]
     },
     "execution_count": 27,
     "metadata": {},
     "output_type": "execute_result"
    }
   ],
   "source": [
    "#confirm the columns\n",
    "data.head(2)"
   ]
  },
  {
   "cell_type": "code",
   "execution_count": 28,
   "id": "82666013",
   "metadata": {},
   "outputs": [],
   "source": [
    "#create the COGS column\n",
    "data['COGS'] = data['unit_price'] - data['Profit per unit']"
   ]
  },
  {
   "cell_type": "code",
   "execution_count": 30,
   "id": "af45e04b",
   "metadata": {},
   "outputs": [],
   "source": [
    "#rename columns\n",
    "data.rename(columns={\n",
    "    'unit_price': 'Unit Price',\n",
    "    'COGS': 'COGS Per Unit',\n",
    "    'Profit per unit': 'Profit Per Unit' \n",
    "}, inplace=True)"
   ]
  },
  {
   "cell_type": "code",
   "execution_count": 31,
   "id": "222960dc",
   "metadata": {},
   "outputs": [],
   "source": [
    "#create total cogs and total profit\n",
    "data['Total COGS'] = data['Units Sold'] * data['COGS Per Unit']\n",
    "data['Total Profit'] = data['Units Sold'] * data['Profit Per Unit']"
   ]
  },
  {
   "cell_type": "code",
   "execution_count": 32,
   "id": "f6977666",
   "metadata": {},
   "outputs": [
    {
     "data": {
      "text/html": [
       "<div>\n",
       "<style scoped>\n",
       "    .dataframe tbody tr th:only-of-type {\n",
       "        vertical-align: middle;\n",
       "    }\n",
       "\n",
       "    .dataframe tbody tr th {\n",
       "        vertical-align: top;\n",
       "    }\n",
       "\n",
       "    .dataframe thead th {\n",
       "        text-align: right;\n",
       "    }\n",
       "</style>\n",
       "<table border=\"1\" class=\"dataframe\">\n",
       "  <thead>\n",
       "    <tr style=\"text-align: right;\">\n",
       "      <th></th>\n",
       "      <th>Product Name</th>\n",
       "      <th>Company</th>\n",
       "      <th>Export Country</th>\n",
       "      <th>Date</th>\n",
       "      <th>Units Sold</th>\n",
       "      <th>Unit Price</th>\n",
       "      <th>Profit Per Unit</th>\n",
       "      <th>Export Value</th>\n",
       "      <th>Destination Port</th>\n",
       "      <th>Transportation Mode</th>\n",
       "      <th>Year</th>\n",
       "      <th>Month</th>\n",
       "      <th>Month Name</th>\n",
       "      <th>COGS Per Unit</th>\n",
       "      <th>Total COGS</th>\n",
       "      <th>Total Profit</th>\n",
       "    </tr>\n",
       "  </thead>\n",
       "  <tbody>\n",
       "    <tr>\n",
       "      <th>0</th>\n",
       "      <td>Rubber</td>\n",
       "      <td>Farmgate Nigeria Limited</td>\n",
       "      <td>Austria</td>\n",
       "      <td>2023-11-16</td>\n",
       "      <td>721</td>\n",
       "      <td>31443.05</td>\n",
       "      <td>5863.92</td>\n",
       "      <td>22670439.05</td>\n",
       "      <td>Lagos</td>\n",
       "      <td>Sea</td>\n",
       "      <td>2023</td>\n",
       "      <td>11</td>\n",
       "      <td>November</td>\n",
       "      <td>25579.13</td>\n",
       "      <td>18442552.73</td>\n",
       "      <td>4227886.32</td>\n",
       "    </tr>\n",
       "    <tr>\n",
       "      <th>1</th>\n",
       "      <td>Palm Oil</td>\n",
       "      <td>Prime Agro Exports Nigeria Limited</td>\n",
       "      <td>Germany</td>\n",
       "      <td>2021-01-08</td>\n",
       "      <td>881</td>\n",
       "      <td>23151.97</td>\n",
       "      <td>5868.73</td>\n",
       "      <td>20396885.57</td>\n",
       "      <td>Lagos</td>\n",
       "      <td>Sea</td>\n",
       "      <td>2021</td>\n",
       "      <td>1</td>\n",
       "      <td>January</td>\n",
       "      <td>17283.24</td>\n",
       "      <td>15226534.44</td>\n",
       "      <td>5170351.13</td>\n",
       "    </tr>\n",
       "    <tr>\n",
       "      <th>2</th>\n",
       "      <td>Cassava</td>\n",
       "      <td>Farmgate Nigeria Limited</td>\n",
       "      <td>Germany</td>\n",
       "      <td>2020-10-14</td>\n",
       "      <td>702</td>\n",
       "      <td>18536.45</td>\n",
       "      <td>5105.01</td>\n",
       "      <td>13012587.90</td>\n",
       "      <td>Calabar</td>\n",
       "      <td>Sea</td>\n",
       "      <td>2020</td>\n",
       "      <td>10</td>\n",
       "      <td>October</td>\n",
       "      <td>13431.44</td>\n",
       "      <td>9428870.88</td>\n",
       "      <td>3583717.02</td>\n",
       "    </tr>\n",
       "  </tbody>\n",
       "</table>\n",
       "</div>"
      ],
      "text/plain": [
       "  Product Name                             Company Export Country       Date  \\\n",
       "0       Rubber            Farmgate Nigeria Limited        Austria 2023-11-16   \n",
       "1     Palm Oil  Prime Agro Exports Nigeria Limited        Germany 2021-01-08   \n",
       "2      Cassava            Farmgate Nigeria Limited        Germany 2020-10-14   \n",
       "\n",
       "   Units Sold  Unit Price  Profit Per Unit  Export Value Destination Port  \\\n",
       "0         721    31443.05          5863.92   22670439.05            Lagos   \n",
       "1         881    23151.97          5868.73   20396885.57            Lagos   \n",
       "2         702    18536.45          5105.01   13012587.90          Calabar   \n",
       "\n",
       "  Transportation Mode  Year  Month Month Name  COGS Per Unit   Total COGS  \\\n",
       "0                 Sea  2023     11   November       25579.13  18442552.73   \n",
       "1                 Sea  2021      1    January       17283.24  15226534.44   \n",
       "2                 Sea  2020     10    October       13431.44   9428870.88   \n",
       "\n",
       "   Total Profit  \n",
       "0    4227886.32  \n",
       "1    5170351.13  \n",
       "2    3583717.02  "
      ]
     },
     "execution_count": 32,
     "metadata": {},
     "output_type": "execute_result"
    }
   ],
   "source": [
    "#confirm the columns\n",
    "data.head(3)"
   ]
  },
  {
   "cell_type": "markdown",
   "id": "5d76c291",
   "metadata": {},
   "source": [
    "## Data Analysis"
   ]
  },
  {
   "cell_type": "markdown",
   "id": "1f4a5845",
   "metadata": {},
   "source": [
    "## APP DEVELOPMENT"
   ]
  },
  {
   "cell_type": "code",
   "execution_count": 273,
   "id": "d77a079b",
   "metadata": {
    "code_folding": [],
    "scrolled": false
   },
   "outputs": [
    {
     "data": {
      "text/html": [
       "\n",
       "        <iframe\n",
       "            width=\"100%\"\n",
       "            height=\"650\"\n",
       "            src=\"http://127.0.0.1:8040/\"\n",
       "            frameborder=\"0\"\n",
       "            allowfullscreen\n",
       "            \n",
       "        ></iframe>\n",
       "        "
      ],
      "text/plain": [
       "<IPython.lib.display.IFrame at 0x2b625b5e6e0>"
      ]
     },
     "metadata": {},
     "output_type": "display_data"
    }
   ],
   "source": [
    "import plotly.express as px\n",
    "import dash_bootstrap_components as dbc\n",
    "from dash_bootstrap_templates import load_figure_template\n",
    "from dash import Dash, html, dcc\n",
    "from dash.dependencies import Output, Input\n",
    "from dash.exceptions import PreventUpdate\n",
    "\n",
    "#create the app\n",
    "app = Dash(__name__, external_stylesheets=[dbc.themes.SLATE])\n",
    "\n",
    "load_figure_template(\"SLATE\")\n",
    "\n",
    "#create the layout\n",
    "app.layout = dbc.Container([\n",
    "    \n",
    "    dcc.Tabs([    \n",
    "            \n",
    "            #tab 0\n",
    "            dcc.Tab(\n",
    "                label = \"KPI\",\n",
    "                children = [\n",
    "                    \n",
    "                        #empty row\n",
    "                        dbc.Row(\n",
    "                            html.Br()\n",
    "                        ),\n",
    "                    \n",
    "                        #title row\n",
    "                        dbc.Row(\n",
    "                            [html.H3(\n",
    "                                html.Span(\"Analysis of Nigeria Agricultural Exports (2020 - 2023)\", style={\"color\":\"#56F52B\"})),\n",
    "                            html.H6(\"Using Pandas | Plotly | Dash\")]\n",
    "                        ),\n",
    "                    \n",
    "                        dbc.Row([\n",
    "                            dbc.Col(\n",
    "                                html.Span(\n",
    "                                    \" \"),\n",
    "                                width=8\n",
    "                            ),\n",
    "                            dbc.Col(\n",
    "                               [ \n",
    "                                   html.Span(\"Select Year to Analyze:\"),\n",
    "                                   dcc.Dropdown(\n",
    "                                        id=\"year_selected_0\",\n",
    "                                        options = list(data['Year'].unique()),\n",
    "                                        value=2023\n",
    "                                    )\n",
    "                               ]\n",
    "                            )\n",
    "                            \n",
    "                            \n",
    "                        ]),\n",
    "                    \n",
    "                        dbc.Row(\n",
    "                            html.Br()\n",
    "                        ),\n",
    "\n",
    "                        dbc.Row([ \n",
    "\n",
    "                            dbc.Col(\n",
    "                                dbc.Card([\n",
    "                                    html.Br(),\n",
    "                                    html.P(\"Nigeria exported\"),\n",
    "                                    html.H1(id = \"kpi_1\"),\n",
    "                                    html.P(\"Agric Produce\")\n",
    "                                    ], style={\"textAlign\": \"center\", \"fontSize\": 15, \"color\": \"#EEECE1\"}\n",
    "                                ), width=4\n",
    "                            ),\n",
    "                            dbc.Col(\n",
    "                                dbc.Card([\n",
    "                                    html.Br(),\n",
    "                                    html.P(\"Which they exported to\"),\n",
    "                                    html.H1(id = \"kpi_2\"),\n",
    "                                    html.P(\"Countries\")\n",
    "                                    ], style={\"textAlign\": \"center\", \"fontSize\": 15, \"color\": \"#EEECE1\"}\n",
    "                                ), width=4\n",
    "                            ),\n",
    "                            dbc.Col(\n",
    "                                dbc.Card([\n",
    "                                    html.Br(),\n",
    "                                    html.P(\"They export them through\"),\n",
    "                                    html.H1(id = \"kpi_3\"),\n",
    "                                    html.P(\"Companies\")\n",
    "                                    ], style={\"textAlign\": \"center\", \"fontSize\": 15, \"color\": \"#EEECE1\"}\n",
    "                                ), width=4\n",
    "                            )\n",
    "\n",
    "                        ]),\n",
    "                    \n",
    "                    dbc.Row(\n",
    "                        html.Br()\n",
    "                    ),\n",
    "                    \n",
    "                    #another row\n",
    "                    dbc.Row([ \n",
    "\n",
    "                            dbc.Col(\n",
    "                                dbc.Card([\n",
    "                                    html.Br(),\n",
    "                                    html.P(\"Units Sold\"),\n",
    "                                    html.H1(id = \"kpi_4\"),\n",
    "                                    html.H5(id=\"kpi_4a\")\n",
    "                                    ], style={\"textAlign\": \"center\", \"fontSize\": 15, \"color\": \"#EEECE1\"}\n",
    "                                ), width=4\n",
    "                            ),\n",
    "                            dbc.Col(\n",
    "                                dbc.Card([\n",
    "                                    html.Br(),\n",
    "                                    html.P(\"Export Value\"),\n",
    "                                    html.H1(id = \"kpi_5\"),\n",
    "                                    html.H5(id=\"kpi_5a\")\n",
    "                                    ], style={\"textAlign\": \"center\", \"fontSize\": 15, \"color\": \"#EEECE1\"}\n",
    "                                ), width=4\n",
    "                            ),\n",
    "                            dbc.Col(\n",
    "                                dbc.Card([\n",
    "                                    html.Br(),\n",
    "                                    html.P(\"Profit\"),\n",
    "                                    html.H1(id = \"kpi_6\"),\n",
    "                                    html.H5(id=\"kpi_6a\")\n",
    "                                    ], style={\"textAlign\": \"center\", \"fontSize\": 15, \"color\": \"#EEECE1\"}\n",
    "                                ), width=4\n",
    "                            )\n",
    "\n",
    "                        ]),\n",
    "                    \n",
    "                    #another row\n",
    "                    dbc.Row(\n",
    "                        html.Br()\n",
    "                    ),\n",
    "                    \n",
    "                    dbc.Row(\n",
    "                        [html.Br(),\n",
    "                        html.P(\"Note: This analysis is based on the data provided and do not represent the actual values\")],\n",
    "                        style={\"color\": \"grey\", \"fontSize\": 14}\n",
    "                    )\n",
    "                    \n",
    "                 ]\n",
    "            \n",
    "            ),\n",
    "        \n",
    "            \n",
    "            #tab 1\n",
    "            dcc.Tab(\n",
    "                label = \"Product Analysis\",\n",
    "                children =[#row one\n",
    "                        dbc.Row([\n",
    "                            dbc.Col([\n",
    "                                html.Br(),\n",
    "                                html.P(\"Select Year:\"),\n",
    "                                dcc.Dropdown(\n",
    "                                    id = \"year_filter\",\n",
    "                                    options = list(data['Year'].unique()),\n",
    "                                    value = 2023\n",
    "                                    ),\n",
    "                                html.Br(),\n",
    "                                html.P(\"Select Type\"),\n",
    "                                dcc.RadioItems(\n",
    "                                    id = \"select_cat3\",\n",
    "                                    options = [\"Sales\", \"Profit\"],\n",
    "                                    value = \"Sales\"\n",
    "                                    )\n",
    "                                ], width=2),\n",
    "\n",
    "                            dbc.Col(\n",
    "                                [html.Br(),\n",
    "                                dcc.Graph(id=\"graph1\")]\n",
    "                            )\n",
    "                        ])]\n",
    "                ),\n",
    "\n",
    "               \n",
    "                #tab two\n",
    "                 dcc.Tab(\n",
    "                     label = \"Trend Analysis\",\n",
    "                     children=[\n",
    "                         dbc.Row([\n",
    "\n",
    "                                html.Br(),\n",
    "                                html.P(\"Select Product to Analyze Trend\"),\n",
    "                                dcc.Dropdown(\n",
    "                                    id=\"select_product\",\n",
    "                                    options = list(data['Product Name'].unique()),\n",
    "                                    value = [\"Cocoa\", \"Cashew\", \"Sesame\"],\n",
    "                                    multi = True\n",
    "                                ),\n",
    "                                html.Br(),\n",
    "                                dcc.Graph(id = \"graph2\")\n",
    "                            ])\n",
    "                     ]\n",
    "                 ),\n",
    "                \n",
    "                #tab three\n",
    "                dcc.Tab(\n",
    "                    label = \"Port Analysis\",\n",
    "                    children = [\n",
    "                        dbc.Row([\n",
    "                            dbc.Col([\n",
    "                                    html.Br(),\n",
    "                                    html.P(\"Select Year\"),\n",
    "                                    dcc.Dropdown(\n",
    "                                    id = \"select_year2\",\n",
    "                                    options=list(data['Year'].unique()),\n",
    "                                    value=2023\n",
    "                                )\n",
    "                            ], width = 2),\n",
    "                            dbc.Col([\n",
    "                                    html.Br(),\n",
    "                                    html.P(\"Select Category to Analyze\"),\n",
    "                                    dcc.RadioItems(\n",
    "                                        id = \"select_cat\",\n",
    "                                        options = [\"Export Value\", \"Export Volume\"],\n",
    "                                        value = \"Export Value\",\n",
    "                                        inline=True\n",
    "                                    ),\n",
    "                                    dcc.Graph(id = \"graph3\")\n",
    "                            ])\n",
    "                        ])\n",
    "                    ]\n",
    "                \n",
    "                ),\n",
    "            \n",
    "            #tab four\n",
    "            dcc.Tab(\n",
    "                label=\"Export Country\",\n",
    "               children = [\n",
    "                dbc.Row(\n",
    "                    [ \n",
    "                        dbc.Col(\n",
    "                            [\n",
    "                                html.Br(),\n",
    "                                html.P(\"Select Year:\"),\n",
    "                                dcc.Dropdown(\n",
    "                                    id = \"select_year4\",\n",
    "                                    options=list(data['Year'].unique()),\n",
    "                                    value=2023\n",
    "                                    )\n",
    "                            ], width = 2),\n",
    "                    \n",
    "                        dbc.Col(\n",
    "                            [\n",
    "                                html.Br(),\n",
    "                                html.H5(\"Select Product to Compare\"),\n",
    "                                dcc.Checklist(\n",
    "                                    id = \"select_product4\",\n",
    "                                    options=list(data['Product Name'].unique()),\n",
    "                                    value=[\"Cocoa\", \"Cashew\", \"Sesame\"],\n",
    "                                    inline = True\n",
    "                                )\n",
    "                            ]\n",
    "                        )\n",
    "                    ]),\n",
    "                        \n",
    "                dbc.Row(\n",
    "                    dcc.Graph(id = \"graph4\")\n",
    "                )\n",
    "                ]),\n",
    "        \n",
    "            #tab 5\n",
    "            dcc.Tab(\n",
    "                label = \"Company Analysis\",\n",
    "                children = [\n",
    "                        dbc.Row(\n",
    "                            [ \n",
    "                               dbc.Col([\n",
    "                                   html.Br(),\n",
    "                                   html.P(\"Select Year\"),\n",
    "                                   dcc.Dropdown(\n",
    "                                        id = \"select_year5\",\n",
    "                                        options=list(data['Year'].unique()),\n",
    "                                        value=2023)\n",
    "                               ], width=2),\n",
    "\n",
    "                               dbc.Col([\n",
    "                                   html.Br(),\n",
    "                                   html.H5(\"Select a Category to Analyze:\"),\n",
    "                                   dcc.RadioItems(\n",
    "                                        id = \"select_option5\",\n",
    "                                        options= [\"Export Volume\",\"Export Value\"],\n",
    "                                        value = \"Export Volume\",\n",
    "                                        inline = True)\n",
    "                               ])\n",
    "\n",
    "                            ]\n",
    "                        ),\n",
    "                        dbc.Row(\n",
    "                            dcc.Graph(id = \"graph5\")\n",
    "                        )\n",
    "                \n",
    "                \n",
    "            ])\n",
    "           \n",
    "\n",
    "                \n",
    "     ])\n",
    "])\n",
    "\n",
    "\n",
    "#create callback for kpi\n",
    "@app.callback(\n",
    "    Output(\"kpi_1\", \"children\"),\n",
    "    Output(\"kpi_2\", \"children\"),\n",
    "    Output(\"kpi_3\", \"children\"),\n",
    "    Output(\"kpi_4\", \"children\"),\n",
    "    Output(\"kpi_4a\", \"children\"),\n",
    "    Output(\"kpi_5\", \"children\"),\n",
    "    Output(\"kpi_5a\", \"children\"),\n",
    "    Output(\"kpi_6\", \"children\"),\n",
    "    Output(\"kpi_6a\", \"children\"),\n",
    "    Input(\"year_selected_0\", \"value\")\n",
    ")\n",
    "def calculate_kpi(year_selected):\n",
    "    unique_products = data.query(\"Year == @year_selected\")[\"Product Name\"].nunique()\n",
    "    \n",
    "    export_country = data.query(\"Year == @year_selected\")[\"Export Country\"].nunique()\n",
    "    \n",
    "    company = data.query(\"Year == @year_selected\")[\"Company\"].nunique()\n",
    "    \n",
    "    prev_year = int(f\"{year_selected}\") - 1\n",
    "    \n",
    "    #total units\n",
    "    total_units = data.query(\"Year == @year_selected\")['Units Sold'].sum()\n",
    "    total_units_text = str(round(total_units/1000))+\"K\"\n",
    "    prev_total_units = data.query(\"Year == @prev_year\")['Units Sold'].sum()\n",
    "    yoy_total_units = round(((total_units - prev_total_units)/prev_total_units)*100, 2)\n",
    "    yoy_tunits_text = \"YOY: \"+str(yoy_total_units)+\"%\"\n",
    "    \n",
    "    #export value\n",
    "    export_value = round(data.query(\"Year == @year_selected\")['Export Value'].sum(),2)\n",
    "    export_value_text = \"₦\"+ str(round(export_value/1000000000,2))+\"B\"\n",
    "    prev_export_value = data.query(\"Year == @prev_year\")['Export Value'].sum()\n",
    "    yoy_export_value = round(((export_value - prev_export_value)/prev_export_value)*100, 2)\n",
    "    yoy_expval_text = \"YOY: \"+str(yoy_export_value)+\"%\"\n",
    "    \n",
    "    #total profit\n",
    "    total_profit = round(data.query(\"Year == @year_selected\")['Total Profit'].sum(),0)\n",
    "    total_profit_text = \"₦\"+ str(round(total_profit/1000000))+\"M\"\n",
    "    prev_total_profit = data.query(\"Year == @prev_year\")['Total Profit'].sum()\n",
    "    yoy_profit = round(((total_profit - prev_total_profit)/prev_total_profit)*100, 2)\n",
    "    yoy_profit_text = \"YOY: \"+str(yoy_profit)+\"%\"\n",
    "    \n",
    "    return unique_products, export_country, company, total_units_text, yoy_tunits_text, export_value_text, yoy_expval_text, total_profit_text, yoy_profit_text\n",
    "\n",
    "\n",
    "\n",
    "\n",
    "#create the callback for Product and Trend Analysis\n",
    "@app.callback(\n",
    "    Output(\"graph1\", \"figure\"),\n",
    "    Output(\"graph2\", \"figure\"),\n",
    "    Input(\"select_cat3\", \"value\"),\n",
    "    Input(\"year_filter\", \"value\"),\n",
    "    Input(\"select_product\", \"value\")\n",
    ")\n",
    "def product_sales_year (cat_selected, year_selected, selected_product):\n",
    "    if not year_selected:\n",
    "        raise PreventUpdate\n",
    "    \n",
    "    if f\"{cat_selected}\" == \"Sales\":\n",
    "        fig = px.bar(\n",
    "            data.query(f\"Year == {year_selected}\").groupby(['Product Name'], as_index=False).agg(\n",
    "                total_units_sold = ('Units Sold', 'sum')).sort_values('total_units_sold', ascending=False),\n",
    "            x = 'Product Name',\n",
    "            y = 'total_units_sold',\n",
    "            title = f\"Total Sales of each Export Products in {year_selected}\",\n",
    "            labels = {\n",
    "                'total_units_sold': 'Total Sales',\n",
    "                'Product Name': 'Export Products'}\n",
    "        ).update_layout(title = {\"x\": 0.5, \"y\": 0.85})\n",
    "    elif f\"{cat_selected}\" == \"Profit\":\n",
    "        fig = px.bar(\n",
    "            data.query(f\"Year == {year_selected}\").groupby(['Product Name'], as_index=False).agg(\n",
    "                total_profit = ('Total Profit', 'sum')).sort_values('total_profit', ascending=False),\n",
    "            x = 'Product Name',\n",
    "            y = 'total_profit',\n",
    "            title = f\"Total Profits of each Export Products in {year_selected}\",\n",
    "            labels = {\n",
    "                'total_profit': 'Total Profit (₦)',\n",
    "                'Product Name': 'Export Products'}\n",
    "        ).update_layout(title = {\"x\": 0.5, \"y\": 0.85})\n",
    "    \n",
    "    fig2 = px.line(\n",
    "        data.query(\"`Product Name` == @selected_product\").groupby(['Year', 'Product Name'], as_index=False).agg(\n",
    "        total_sales = ('Units Sold', 'sum')),\n",
    "        x = 'Year',\n",
    "        y = 'total_sales',\n",
    "        color = \"Product Name\",\n",
    "        title = f\"Annual Sales of {selected_product}\",\n",
    "        labels = {\"total_sales\":\"Total Sales\"}\n",
    "        \n",
    "    ).update_xaxes(type=\"category\").update_layout(title = {\"x\": 0.5, \"y\": 0.85})\n",
    "        \n",
    "    \n",
    "    return fig, fig2\n",
    "\n",
    "\n",
    "\n",
    "#callback function for destination port\n",
    "@app.callback(\n",
    "    Output(\"graph3\", \"figure\"),\n",
    "    Input(\"select_year2\", \"value\"),\n",
    "    Input(\"select_cat\", \"value\")\n",
    ")\n",
    "def plot_port (select_year2, select_cat):\n",
    "    if f\"{select_cat}\" == \"Export Value\":\n",
    "        fid = px.bar(\n",
    "                data.query(\"Year == @select_year2\").groupby(['Destination Port'], as_index=False).agg(\n",
    "                total_export_value=('Export Value', 'sum')).sort_values('total_export_value', ascending=False),\n",
    "                x = \"Destination Port\",\n",
    "                y = \"total_export_value\",\n",
    "                title = f\"Export Values of Destination Port in {select_year2}\",\n",
    "                labels = {\"total_export_value\":\"Export Value (₦)\"}\n",
    "        ).update_layout(title = {\"x\": 0.5, \"y\": 0.85})\n",
    "    elif f\"{select_cat}\" == \"Export Volume\":\n",
    "        fid = px.bar(\n",
    "                data.query(\"Year == @select_year2\").groupby(['Destination Port', 'Product Name'], as_index=False).agg(\n",
    "                total_volume=('Units Sold', 'sum')).sort_values('total_volume', ascending=False),\n",
    "                x = \"Destination Port\",\n",
    "                y = \"total_volume\",\n",
    "                color = \"Product Name\",\n",
    "                title = f\"Export Volumes of Destination Port in {select_year2}\",\n",
    "                labels = {\"total_volume\":\"Export Volume\"}\n",
    "        ).update_layout(title = {\"x\": 0.5, \"y\": 0.85})\n",
    "    return fid\n",
    "\n",
    "\n",
    "\n",
    "#callback for export country\n",
    "@app.callback(\n",
    "    Output(\"graph4\", \"figure\"),\n",
    "    Input(\"select_year4\", \"value\"),\n",
    "    Input(\"select_product4\", \"value\")\n",
    ")\n",
    "def plot_port (select_year4, select_product4):\n",
    "    fidd = px.bar(\n",
    "        data.query(\"(Year == @select_year4) and (`Product Name` in @select_product4)\").groupby(\n",
    "            [\"Export Country\", 'Product Name'], as_index=False).agg(\n",
    "            total_volume = ('Units Sold', 'sum')).sort_values('total_volume', ascending=False),\n",
    "        x = 'Export Country',\n",
    "        y = 'total_volume',\n",
    "        color = 'Product Name',\n",
    "        title = f\"Total Sales of {select_product4} to Export Countries in {select_year4}\",\n",
    "        barmode = 'group',\n",
    "        labels = {\"total_volume\":\"Total Sales\"}\n",
    "    ).update_layout(title = {\"x\": 0.5, \"y\": 0.85})\n",
    "   \n",
    "    return fidd\n",
    "\n",
    "\n",
    "\n",
    "# callback function for company analysis\n",
    "@app.callback(\n",
    "    Output(\"graph5\", \"figure\"),\n",
    "    Input(\"select_year5\", \"value\"),\n",
    "    Input(\"select_option5\", \"value\")\n",
    ")\n",
    "def plot_company (select_year5, select_option5):\n",
    "    if f\"{select_option5}\" == \"Export Volume\":\n",
    "        figg = px.bar(\n",
    "            data.query(\"Year == @select_year5\").groupby(['Company'], as_index=False).agg(\n",
    "                total_volume = ('Units Sold', 'sum')).sort_values('total_volume', ascending=True),\n",
    "            y = 'Company',\n",
    "            x = 'total_volume',\n",
    "            title = f\"Total Export Volume by Companies in {select_year5}\",\n",
    "            labels = {\"total_volume\":\"Total Volume\"}\n",
    "        ).update_layout(title = {\"x\": 0.5, \"y\": 0.85})\n",
    "    elif f\"{select_option5}\" == \"Export Value\":\n",
    "        figg = px.bar(\n",
    "            data.query(\"Year == @select_year5\").groupby(['Company'], as_index=False).agg(\n",
    "                total_export_value = ('Export Value', 'sum')).sort_values('total_export_value', ascending=True),\n",
    "            y = 'Company',\n",
    "            x = 'total_export_value',\n",
    "            title = f\"Total Export Value by Companies in {select_year5}\",\n",
    "            labels = {\"total_export_value\":\"Export Value (₦)\"}\n",
    "        ).update_layout(title = {\"x\": 0.5, \"y\": 0.85})\n",
    "   \n",
    "    return figg\n",
    "\n",
    "\n",
    "\n",
    "#run app\n",
    "if __name__ == \"__main__\":\n",
    "    app.run_server(port=8040)"
   ]
  },
  {
   "cell_type": "code",
   "execution_count": null,
   "id": "8072cc24",
   "metadata": {},
   "outputs": [],
   "source": []
  }
 ],
 "metadata": {
  "kernelspec": {
   "display_name": "Python 3 (ipykernel)",
   "language": "python",
   "name": "python3"
  },
  "language_info": {
   "codemirror_mode": {
    "name": "ipython",
    "version": 3
   },
   "file_extension": ".py",
   "mimetype": "text/x-python",
   "name": "python",
   "nbconvert_exporter": "python",
   "pygments_lexer": "ipython3",
   "version": "3.10.9"
  },
  "varInspector": {
   "cols": {
    "lenName": 16,
    "lenType": 16,
    "lenVar": 40
   },
   "kernels_config": {
    "python": {
     "delete_cmd_postfix": "",
     "delete_cmd_prefix": "del ",
     "library": "var_list.py",
     "varRefreshCmd": "print(var_dic_list())"
    },
    "r": {
     "delete_cmd_postfix": ") ",
     "delete_cmd_prefix": "rm(",
     "library": "var_list.r",
     "varRefreshCmd": "cat(var_dic_list()) "
    }
   },
   "types_to_exclude": [
    "module",
    "function",
    "builtin_function_or_method",
    "instance",
    "_Feature"
   ],
   "window_display": false
  }
 },
 "nbformat": 4,
 "nbformat_minor": 5
}
